{
 "cells": [
  {
   "cell_type": "markdown",
   "metadata": {
    "collapsed": false
   },
   "source": [
    "# Complex Plane using Numpy and Pandas\n",
    "The imported module clpane includes a class ArrayComplextPlane that subclasses the abstract base class AbsComplexPlain in abscplaine.py. The complex plane is a 2D grid of complex number having the form (x + y\\*1j), where x is a real number part and y\\*1j is an imaginary number part. X and y can be plotted as the coordinates for the horizontal axis and the vertical axis on the plane. The initial plane will be created with given attributes when the ListComplexPlane class gets instantiated. In addition to creating a 2D grid numbers (x + y\\*1j), the class maintains a list of transformation functions in self.fs. The method self.apply will transform each point of the existing complex plane by adding a new function f to self.fs. The method self.zoom will go through all transformations by every function in self.fs in order.     \n",
    "\n",
    "## The initial complex plane\n",
    "The \\__init\\__ function sets up the complex plane with default attributes (xmin=-4, xmax=4, xlen=8, ymin=-4, ymax=4, ylen=8). To find each points on complex plane, a unit value of both x and y axes will be calculated  by ((max - min) / len). The arguments will be passed to Numpy's **linspace** method and **meshgrid** method to create x and y axes and, finally, a 2D-grid complex plane. Those attributes (xmin, xmax, xlen, ymin, ymax, ylen) can be overridden in self.zoom method. Once a complex plane is created, it will be augmented with index and column header using Pandas' **dataframe**. The next cell will print each point of the complex plane in numeric values."
   ]
  },
  {
   "cell_type": "code",
   "execution_count": 1,
   "metadata": {
    "collapsed": false
   },
   "outputs": [
    {
     "name": "stdout",
     "output_type": "stream",
     "text": [
      "         -4.0     -3.0     -2.0     -1.0   0.0     1.0     2.0     3.0     4.0\n",
      "-4.0  (-4-4j)  (-3-4j)  (-2-4j)  (-1-4j)   -4j  (1-4j)  (2-4j)  (3-4j)  (4-4j)\n",
      "-3.0  (-4-3j)  (-3-3j)  (-2-3j)  (-1-3j)   -3j  (1-3j)  (2-3j)  (3-3j)  (4-3j)\n",
      "-2.0  (-4-2j)  (-3-2j)  (-2-2j)  (-1-2j)   -2j  (1-2j)  (2-2j)  (3-2j)  (4-2j)\n",
      "-1.0  (-4-1j)  (-3-1j)  (-2-1j)  (-1-1j)   -1j  (1-1j)  (2-1j)  (3-1j)  (4-1j)\n",
      " 0.0  (-4+0j)  (-3+0j)  (-2+0j)  (-1+0j)    0j  (1+0j)  (2+0j)  (3+0j)  (4+0j)\n",
      " 1.0  (-4+1j)  (-3+1j)  (-2+1j)  (-1+1j)    1j  (1+1j)  (2+1j)  (3+1j)  (4+1j)\n",
      " 2.0  (-4+2j)  (-3+2j)  (-2+2j)  (-1+2j)    2j  (1+2j)  (2+2j)  (3+2j)  (4+2j)\n",
      " 3.0  (-4+3j)  (-3+3j)  (-2+3j)  (-1+3j)    3j  (1+3j)  (2+3j)  (3+3j)  (4+3j)\n",
      " 4.0  (-4+4j)  (-3+4j)  (-2+4j)  (-1+4j)    4j  (1+4j)  (2+4j)  (3+4j)  (4+4j)\n"
     ]
    }
   ],
   "source": [
    "import cplane_np\n",
    "acp = cplane_np.ArrayComplexPlane()\n",
    "print(acp.plane)"
   ]
  },
  {
   "cell_type": "markdown",
   "metadata": {
    "collapsed": false
   },
   "source": [
    "## The method self.apply\n",
    "This method will add a new transformation function to the list attribute self.fs after the vactorization of the function. Numpy's **vectoriz()** method makes it easier to implement the function, because, as we did in the previous ListArrayComplex examle, we do not need to use for-loop to apply a transformation to each element. Another considertaiton should be made when applying a function. Self.plane in the format of Pandas' dataframe will lose labels (index, columns) after a function becomes applied. To avoid this, we use the method **applymap** to apply the function in element-wise, like self.plane.applymap(f). And it will eventually apply the new function to transform the 2D grid of points in the existing complex plane.\n",
    "\n",
    "In the following, a new tranformation function f2 is setup. This function would transform each complex number by multiplying 2. The method self.apply will add the new function to self.fs. After that, the list fs will be printed. The self.apply method will uses the new function (f2) to transform the initial grid of the complex plane. After that transformation, the updated self.plane will be printed in numerical values."
   ]
  },
  {
   "cell_type": "code",
   "execution_count": 2,
   "metadata": {
    "collapsed": false
   },
   "outputs": [
    {
     "name": "stdout",
     "output_type": "stream",
     "text": [
      "[<numpy.lib.function_base.vectorize object at 0x7fc2d441dc88>]\n"
     ]
    }
   ],
   "source": [
    "def f2(c): return 2*c\n",
    "acp.apply(f2)\n",
    "print(acp.fs)"
   ]
  },
  {
   "cell_type": "code",
   "execution_count": 3,
   "metadata": {
    "collapsed": false
   },
   "outputs": [
    {
     "name": "stdout",
     "output_type": "stream",
     "text": [
      "         -4.0     -3.0     -2.0     -1.0   0.0     1.0     2.0     3.0     4.0\n",
      "-4.0  (-8-8j)  (-6-8j)  (-4-8j)  (-2-8j)   -8j  (2-8j)  (4-8j)  (6-8j)  (8-8j)\n",
      "-3.0  (-8-6j)  (-6-6j)  (-4-6j)  (-2-6j)   -6j  (2-6j)  (4-6j)  (6-6j)  (8-6j)\n",
      "-2.0  (-8-4j)  (-6-4j)  (-4-4j)  (-2-4j)   -4j  (2-4j)  (4-4j)  (6-4j)  (8-4j)\n",
      "-1.0  (-8-2j)  (-6-2j)  (-4-2j)  (-2-2j)   -2j  (2-2j)  (4-2j)  (6-2j)  (8-2j)\n",
      " 0.0  (-8+0j)  (-6+0j)  (-4+0j)  (-2+0j)    0j  (2+0j)  (4+0j)  (6+0j)  (8+0j)\n",
      " 1.0  (-8+2j)  (-6+2j)  (-4+2j)  (-2+2j)    2j  (2+2j)  (4+2j)  (6+2j)  (8+2j)\n",
      " 2.0  (-8+4j)  (-6+4j)  (-4+4j)  (-2+4j)    4j  (2+4j)  (4+4j)  (6+4j)  (8+4j)\n",
      " 3.0  (-8+6j)  (-6+6j)  (-4+6j)  (-2+6j)    6j  (2+6j)  (4+6j)  (6+6j)  (8+6j)\n",
      " 4.0  (-8+8j)  (-6+8j)  (-4+8j)  (-2+8j)    8j  (2+8j)  (4+8j)  (6+8j)  (8+8j)\n"
     ]
    }
   ],
   "source": [
    "print(acp.plane)"
   ]
  },
  {
   "cell_type": "markdown",
   "metadata": {
    "collapsed": false
   },
   "source": [
    "### Another new function f3 is applied.\n",
    "This function will sqaure each complex number."
   ]
  },
  {
   "cell_type": "code",
   "execution_count": 4,
   "metadata": {
    "collapsed": false
   },
   "outputs": [
    {
     "name": "stdout",
     "output_type": "stream",
     "text": [
      "[<numpy.lib.function_base.vectorize object at 0x7fc2d441dc88>, <numpy.lib.function_base.vectorize object at 0x7fc2d442e5f8>]\n"
     ]
    }
   ],
   "source": [
    "def f3(c): return c*c\n",
    "acp.apply(f3)\n",
    "print(acp.fs)"
   ]
  },
  {
   "cell_type": "code",
   "execution_count": 5,
   "metadata": {
    "collapsed": false,
    "scrolled": true
   },
   "outputs": [
    {
     "name": "stdout",
     "output_type": "stream",
     "text": [
      "          -4.0       -3.0       -2.0       -1.0       0.0        1.0  \\\n",
      "-4.0      128j  (-28+96j)  (-48+64j)  (-60+32j)  (-64-0j)  (-60-32j)   \n",
      "-3.0  (28+96j)        72j  (-20+48j)  (-32+24j)  (-36-0j)  (-32-24j)   \n",
      "-2.0  (48+64j)   (20+48j)        32j  (-12+16j)  (-16-0j)  (-12-16j)   \n",
      "-1.0  (60+32j)   (32+24j)   (12+16j)         8j   (-4-0j)        -8j   \n",
      " 0.0   (64-0j)    (36-0j)    (16-0j)     (4-0j)        0j     (4+0j)   \n",
      " 1.0  (60-32j)   (32-24j)   (12-16j)        -8j   (-4+0j)         8j   \n",
      " 2.0  (48-64j)   (20-48j)       -32j  (-12-16j)  (-16+0j)  (-12+16j)   \n",
      " 3.0  (28-96j)       -72j  (-20-48j)  (-32-24j)  (-36+0j)  (-32+24j)   \n",
      " 4.0     -128j  (-28-96j)  (-48-64j)  (-60-32j)  (-64+0j)  (-60+32j)   \n",
      "\n",
      "            2.0        3.0       4.0  \n",
      "-4.0  (-48-64j)  (-28-96j)     -128j  \n",
      "-3.0  (-20-48j)       -72j  (28-96j)  \n",
      "-2.0       -32j   (20-48j)  (48-64j)  \n",
      "-1.0   (12-16j)   (32-24j)  (60-32j)  \n",
      " 0.0    (16+0j)    (36+0j)   (64+0j)  \n",
      " 1.0   (12+16j)   (32+24j)  (60+32j)  \n",
      " 2.0        32j   (20+48j)  (48+64j)  \n",
      " 3.0  (-20+48j)        72j  (28+96j)  \n",
      " 4.0  (-48+64j)  (-28+96j)      128j  \n"
     ]
    }
   ],
   "source": [
    "print(acp.plane)"
   ]
  },
  {
   "cell_type": "markdown",
   "metadata": {
    "collapsed": false
   },
   "source": [
    "### The method self.zoom\n",
    "This method will re-draw the 2D grid of the complex plane by changing the attributes of xmin, xmax, xlen, ymin, ymax, ylen. After than, it will run through all transformation functions in self.fs in order. In this example, the first function will multiply it by 2 and the second function will squre it. The final complext plane will be the result of accumulated runs of all functions.\n",
    "\n",
    "In the following, after the method self.zoom runs, all new attributes are printed. And the final values of the complex plane will be also printed in numerical format."
   ]
  },
  {
   "cell_type": "code",
   "execution_count": 6,
   "metadata": {
    "collapsed": false
   },
   "outputs": [
    {
     "name": "stdout",
     "output_type": "stream",
     "text": [
      "running the function 1\n",
      "running the function 2\n",
      "New Attributes:  -2 2 4 -2 2 4\n",
      "Transformation functions:  [<numpy.lib.function_base.vectorize object at 0x7fc2d441dc88>, <numpy.lib.function_base.vectorize object at 0x7fc2d442e5f8>]\n"
     ]
    }
   ],
   "source": [
    "acp.zoom(-2,2,4,-2,2,4)\n",
    "print(\"New Attributes: \", acp.xmin, acp.xmax, acp.xlen, acp.ymin, acp.ymax, acp.ylen)\n",
    "print(\"Transformation functions: \", acp.fs)"
   ]
  },
  {
   "cell_type": "code",
   "execution_count": 7,
   "metadata": {
    "collapsed": false
   },
   "outputs": [
    {
     "name": "stdout",
     "output_type": "stream",
     "text": [
      "          -2.0       -1.0       0.0        1.0       2.0\n",
      "-2.0       32j  (-12+16j)  (-16-0j)  (-12-16j)      -32j\n",
      "-1.0  (12+16j)         8j   (-4-0j)        -8j  (12-16j)\n",
      " 0.0   (16-0j)     (4-0j)        0j     (4+0j)   (16+0j)\n",
      " 1.0  (12-16j)        -8j   (-4+0j)         8j  (12+16j)\n",
      " 2.0      -32j  (-12-16j)  (-16+0j)  (-12+16j)       32j\n"
     ]
    }
   ],
   "source": [
    "print(acp.plane)"
   ]
  },
  {
   "cell_type": "markdown",
   "metadata": {
    "collapsed": false
   },
   "source": [
    "### The method self.refresh\n",
    "This method will redraw the complex plane using the currently stored attributes of xmin, xmax, xlen, ymin, ymax, ylen. After that, it will make the transformation function list self.fs empty.\n",
    "In the following, the empty transformation function list self.fs will be printed. After that, it will print and plot the 2D grid points of the complex plane drawn with the stored attributes. "
   ]
  },
  {
   "cell_type": "code",
   "execution_count": 8,
   "metadata": {
    "collapsed": false
   },
   "outputs": [
    {
     "name": "stdout",
     "output_type": "stream",
     "text": [
      "See there is no transformation function left: []\n"
     ]
    },
    {
     "name": "stdout",
     "output_type": "stream",
     "text": [
      "         -2.0     -1.0   0.0     1.0     2.0\n",
      "-2.0  (-2-2j)  (-1-2j)   -2j  (1-2j)  (2-2j)\n",
      "-1.0  (-2-1j)  (-1-1j)   -1j  (1-1j)  (2-1j)\n",
      " 0.0  (-2+0j)  (-1+0j)    0j  (1+0j)  (2+0j)\n",
      " 1.0  (-2+1j)  (-1+1j)    1j  (1+1j)  (2+1j)\n",
      " 2.0  (-2+2j)  (-1+2j)    2j  (1+2j)  (2+2j)\n"
     ]
    }
   ],
   "source": [
    "acp.refresh()\n",
    "print(\"See there is no transformation function left:\", acp.fs)\n",
    "print(acp.plane)"
   ]
  }
 ],
 "metadata": {
  "kernelspec": {
   "display_name": "Python 3 (Anaconda)",
   "language": "python",
   "name": "anaconda3"
  },
  "language_info": {
   "codemirror_mode": {
    "name": "ipython",
    "version": 3
   },
   "file_extension": ".py",
   "mimetype": "text/x-python",
   "name": "python",
   "nbconvert_exporter": "python",
   "pygments_lexer": "ipython3",
   "version": "3.5.4"
  }
 },
 "nbformat": 4,
 "nbformat_minor": 0
}