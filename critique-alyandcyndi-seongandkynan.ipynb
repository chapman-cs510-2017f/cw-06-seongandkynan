{
 "cells": [
  {
   "cell_type": "markdown",
   "metadata": {
    "collapsed": false
   },
   "source": [
    "Name: Aly Baughman, Cynthia Parks\n",
    "\n",
    "Student ID: 1923165, 2303535\n",
    "\n",
    "Email: baugh107@mail.chapman.edu, cparks@chapman.edu\n",
    "\n",
    "Course: CS510 Fall 2017\n",
    "\n",
    "Assignment: Classwork 6"
   ]
  },
  {
   "cell_type": "markdown",
   "metadata": {
    "collapsed": false
   },
   "source": [
    "### Critique of Group B's Classwork 5"
   ]
  },
  {
   "cell_type": "markdown",
   "metadata": {
    "collapsed": false
   },
   "source": [
    "### Directions\n",
    "\n",
    "\n",
    "Is it clear how the code is organized? \n",
    "\n",
    "Is the code properly documented with both docstrings and supplementary comments according to industry standards? \n",
    "\n",
    "Can you follow the algorithm of the code, i.e., what it is doing, and how? \n",
    "\n",
    "Do you see any suggestions for how to improve the code? Discuss your critique with the members of the other group.\n",
    "\n"
   ]
  },
  {
   "cell_type": "markdown",
   "metadata": {
    "collapsed": false
   },
   "source": [
    "### Critique\n",
    "\n",
    "It is very clear how the code is organized. It is formatted in a way that can be easily followed. The group provided a lot of detail including both docstring and supplementary comments that were according to industry standards, which made following the code easier.\n",
    "\n",
    "We can follow the algorithm of the code. While we combined the two functions for the cplane Python code, Group B calculated the complex numbers then filtered it through a function to create the plane from the complex numbers. There were many other areas where they implemented the code differently than we did but we were able to follow along with help from the docstrings and supplementary comments. We could understand the reasoning behind their coding. \n",
    "\n",
    "The Jupyter notebooks for Classwork 5 clearly describe how and why the code was executed. The group also showed great visualization of the cplane functions via plots. A suggestion could be to make the markdown sections in the cplane Jupyter notebook describing different aspects of the code more concise. It was very detailed but it did seem like quite a bit to read through. It was interesting to see a different way the code can be implemented because our codes between the groups were vastly different although aiming for the same functions.\n",
    "\n",
    "Overall, they did a really great job! \n"
   ]
  }
 ],
 "metadata": {
  "kernelspec": {
   "display_name": "Python 3 (Anaconda)",
   "language": "python",
   "name": "anaconda3"
  },
  "language_info": {
   "codemirror_mode": {
    "name": "ipython",
    "version": 3
   },
   "file_extension": ".py",
   "mimetype": "text/x-python",
   "name": "python",
   "nbconvert_exporter": "python",
   "pygments_lexer": "ipython3",
   "version": "3.5.4"
  }
 },
 "nbformat": 4,
 "nbformat_minor": 0
}